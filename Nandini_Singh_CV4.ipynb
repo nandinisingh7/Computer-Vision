{
  "nbformat": 4,
  "nbformat_minor": 0,
  "metadata": {
    "colab": {
      "provenance": [],
      "authorship_tag": "ABX9TyNY5xIzVw/XGqxC3haspdoB",
      "include_colab_link": true
    },
    "kernelspec": {
      "name": "python3",
      "display_name": "Python 3"
    },
    "language_info": {
      "name": "python"
    }
  },
  "cells": [
    {
      "cell_type": "markdown",
      "metadata": {
        "id": "view-in-github",
        "colab_type": "text"
      },
      "source": [
        "<a href=\"https://colab.research.google.com/github/nandinisingh7/Computer-Vision/blob/main/Nandini_Singh_CV4.ipynb\" target=\"_parent\"><img src=\"https://colab.research.google.com/assets/colab-badge.svg\" alt=\"Open In Colab\"/></a>"
      ]
    },
    {
      "cell_type": "markdown",
      "source": [
        "Nandini Singh\n",
        "\n",
        "1032211677\n",
        "\n",
        "Batch A2"
      ],
      "metadata": {
        "id": "OxGyie0mr9jp"
      }
    },
    {
      "cell_type": "markdown",
      "source": [
        "Part A: Chain Code"
      ],
      "metadata": {
        "id": "6quYKlUgr5XQ"
      }
    },
    {
      "cell_type": "code",
      "source": [
        "import cv2\n",
        "import numpy as np\n",
        "import matplotlib.pyplot as plt\n",
        "\n",
        "def get_chaincode(contour):\n",
        "    # Define 8-connected neighbors\n",
        "    neighbors = [(-1, -1), (-1, 0), (-1, 1), (0, 1), (1, 1), (1, 0), (1, -1), (0, -1),]\n",
        "\n",
        "    # Directional chaincode\n",
        "    chaincode = [7, 0, 1, 2, 3, 4, 5, 6]\n",
        "\n",
        "    # Get starting point of the contour\n",
        "    start_point = contour[0][0]\n",
        "    current_point = start_point\n",
        "    chain = []\n",
        "\n",
        "    # Start tracing the contour\n",
        "    for point in contour[1:]:\n",
        "        next_point = point[0]\n",
        "        min_dist = float('inf')\n",
        "        direction = 0\n",
        "        for i, neighbor in enumerate(neighbors):\n",
        "            dist = np.linalg.norm(np.array(next_point) - np.array((current_point[0] + neighbor[0], current_point[1] + neighbor[1])))\n",
        "            if dist < min_dist:\n",
        "                min_dist = dist\n",
        "                direction = i\n",
        "        chain.append(chaincode[direction])\n",
        "        current_point = next_point\n",
        "\n",
        "    return chain\n",
        "\n",
        "# Read the image\n",
        "image = cv2.imread('/content/image5.png')\n",
        "gray = cv2.cvtColor(image, cv2.COLOR_BGR2GRAY)\n",
        "\n",
        "# Threshold the image\n",
        "_, thresh = cv2.threshold(gray, 127, 255, cv2.THRESH_BINARY_INV)\n",
        "\n",
        "# Find contours\n",
        "contours, _ = cv2.findContours(thresh, cv2.RETR_EXTERNAL, cv2.CHAIN_APPROX_SIMPLE)\n",
        "\n",
        "# Calculate chain code for each contour\n",
        "for contour in contours:\n",
        "    chain_code = get_chaincode(contour)\n",
        "    print(\"Chain code:\", chain_code)\n",
        "\n",
        "# Original image\n",
        "plt.subplot(1, 2, 1)\n",
        "plt.imshow(cv2.cvtColor(image, cv2.COLOR_BGR2RGB))\n",
        "plt.title('Original Image')\n",
        "plt.axis('off')\n",
        "\n",
        "# Contour image\n",
        "contour_image = np.zeros_like(image)\n",
        "for contour in contours:\n",
        "    cv2.drawContours(contour_image, [contour], -1, (0, 255, 0), 2)\n",
        "\n",
        "plt.subplot(1, 2, 2)\n",
        "plt.imshow(cv2.cvtColor(contour_image, cv2.COLOR_BGR2RGB))\n",
        "plt.title('Contours')\n",
        "plt.axis('off')\n",
        "\n",
        "plt.show()"
      ],
      "metadata": {
        "colab": {
          "base_uri": "https://localhost:8080/",
          "height": 390
        },
        "id": "jAxIFLqEZDK9",
        "outputId": "e0122632-fc77-4072-a6dd-6c2ce421d369"
      },
      "execution_count": null,
      "outputs": [
        {
          "output_type": "stream",
          "name": "stdout",
          "text": [
            "Chain code: [2, 1, 2, 1, 2, 1, 2, 1, 2, 1, 2, 1, 2, 1, 2, 1, 2, 1, 2, 1, 2, 1, 2, 1, 2, 1, 2, 1, 2, 1, 2, 1, 2, 1, 2, 4, 3, 4, 3, 4, 3, 4, 3, 4, 5, 4, 5, 4, 5, 4, 5, 4, 5, 4, 5, 4, 5, 4, 3, 4, 3, 4, 3, 4, 3, 4, 3, 2, 3, 2, 3, 2, 3, 2, 3, 2, 3, 2, 1, 2, 1, 2, 1, 2, 1, 2, 1, 2, 1, 2, 1, 0, 1, 0, 1, 0, 1, 0, 1, 0, 7, 0, 7, 0, 7, 0, 7, 0, 7, 6, 7, 6, 7, 6, 7, 6, 7, 6, 0, 1, 0, 1, 0, 1, 0, 2, 3, 2, 3, 2, 3, 2, 3, 2, 3, 2, 3, 2, 3, 2, 3, 2, 3, 4, 3, 4, 3, 4, 3, 4, 3, 4, 3, 4, 3, 4, 3, 4, 3, 4, 3, 4, 5, 4, 5, 4, 5, 4, 5, 4, 5, 4, 5, 4, 5, 4, 5, 4, 5, 4, 5, 4, 5, 6, 5, 6, 5, 6, 5, 6, 5, 6, 5, 6, 5, 6, 5, 6, 5, 6, 5, 6, 5, 6, 5, 6, 7, 6, 7, 6, 7, 6, 7, 6, 7, 6, 7, 6, 7, 6, 7, 6, 7, 6, 7, 0, 7, 0, 7, 0, 7, 0, 7, 0, 7, 0, 7, 0, 7, 0, 7, 0, 1, 0, 1, 0, 1, 0, 1, 0, 1, 0, 7, 6, 5, 6, 5, 6, 5, 6, 5, 6, 5, 6, 5, 4, 7, 6, 5, 7]\n"
          ]
        },
        {
          "output_type": "display_data",
          "data": {
            "text/plain": [
              "<Figure size 640x480 with 2 Axes>"
            ],
            "image/png": "[encoded data removed]"
          },
          "metadata": {}
        }
      ]
    },
    {
      "cell_type": "code",
      "source": [
        "import cv2\n",
        "import numpy as np\n",
        "import matplotlib.pyplot as plt\n",
        "\n",
        "# Load the image\n",
        "image = cv2.imread('/content/square.png')\n",
        "\n",
        "# Convert the image to grayscale\n",
        "gray_image = cv2.cvtColor(image, cv2.COLOR_BGR2GRAY)\n",
        "\n",
        "# Threshold the image to get a binary image\n",
        "_, binary_image = cv2.threshold(gray_image, 127, 255, cv2.THRESH_BINARY_INV)\n",
        "# Find contours\n",
        "contours, _ = cv2.findContours(binary_image, cv2.RETR_TREE, cv2.CHAIN_APPROX_NONE)\n",
        "\n",
        "# Display the original image and contour image using pyplot\n",
        "plt.figure(figsize=(10, 5))\n",
        "\n",
        "# Original image\n",
        "plt.subplot(1, 2, 1)\n",
        "plt.imshow(cv2.cvtColor(image, cv2.COLOR_BGR2RGB),cmap='viridis')\n",
        "plt.title('Original Image')\n",
        "plt.axis('off')\n",
        "\n",
        "# Contour image\n",
        "contour_image = np.zeros_like(image)\n",
        "for contour in contours:\n",
        "    cv2.drawContours(contour_image, [contour], -1, (0, 255, 0), 2)\n",
        "\n",
        "plt.subplot(1, 2, 2)\n",
        "plt.imshow(cv2.cvtColor(contour_image, cv2.COLOR_BGR2RGB))\n",
        "plt.title('Contours')\n",
        "plt.axis('off')\n",
        "\n",
        "plt.show()\n",
        "\n",
        "# Generate chain code for each contour\n",
        "for i, contour in enumerate(contours):\n",
        "    chain_code = []\n",
        "    for j in range(1, len(contour)):\n",
        "      if j%30==0:\n",
        "        # Calculate the direction from the previous point to the current one\n",
        "        dx = contour[j][0][0] - contour[j-1][0][0]\n",
        "        dy = contour[j][0][1] - contour[j-1][0][1]\n",
        "\n",
        "        # Encode the direction into a chain code\n",
        "        if dx == 1 and dy == 0:\n",
        "            chain_code.append(0)\n",
        "        elif dx == 1 and dy == 1:\n",
        "            chain_code.append(1)\n",
        "        elif dx == 0 and dy == 1:\n",
        "            chain_code.append(2)\n",
        "        elif dx == -1 and dy == 1:\n",
        "            chain_code.append(3)\n",
        "        elif dx == -1 and dy == 0:\n",
        "            chain_code.append(4)\n",
        "        elif dx == -1 and dy == -1:\n",
        "            chain_code.append(5)\n",
        "        elif dx == 0 and dy == -1:\n",
        "            chain_code.append(6)\n",
        "        elif dx == 1 and dy == -1:\n",
        "            chain_code.append(7)\n",
        "\n",
        "    # Print the chain code for each contour\n",
        "    print(\"Chain Code for Contour \\n\", i+1, \":\", chain_code)"
      ],
      "metadata": {
        "colab": {
          "base_uri": "https://localhost:8080/",
          "height": 482
        },
        "id": "0MFOJWuxsMcA",
        "outputId": "14a493dd-9881-4977-902d-200a7818d9fb"
      },
      "execution_count": null,
      "outputs": [
        {
          "output_type": "display_data",
          "data": {
            "text/plain": [
              "<Figure size 1000x500 with 2 Axes>"
            ],
            "image/png": "[encoded data removed]"
          },
          "metadata": {}
        },
        {
          "output_type": "stream",
          "name": "stdout",
          "text": [
            "Chain Code for Contour \n",
            " 1 : [2, 2, 2, 2, 2, 0, 0, 0, 0, 0, 6, 6, 6, 6, 6, 4, 4, 4, 4, 4, 4]\n",
            "Chain Code for Contour \n",
            " 2 : [0, 0, 0, 0, 0, 2, 2, 2, 2, 2, 4, 4, 4, 4, 4, 6, 6, 6, 6, 6]\n"
          ]
        }
      ]
    },
    {
      "cell_type": "markdown",
      "source": [
        "Part B: Contour Comparision"
      ],
      "metadata": {
        "id": "Tn3SVr0ds53j"
      }
    },
    {
      "cell_type": "code",
      "source": [
        "import cv2\n",
        "\n",
        "def generate_chain_code(image_path, sampling_step=10):\n",
        "\n",
        "  # Load the image as a grayscale image\n",
        "  image = cv2.imread(image_path, cv2.IMREAD_GRAYSCALE)\n",
        "\n",
        "  # Threshold the image to obtain a binary image\n",
        "  _, binary_image = cv2.threshold(image, 128, 255, cv2.THRESH_BINARY_INV | cv2.THRESH_OTSU)\n",
        "\n",
        "  # Find the contours of the digit\n",
        "  contours, _ = cv2.findContours(binary_image, cv2.RETR_EXTERNAL, cv2.CHAIN_APPROX_SIMPLE)\n",
        "\n",
        "  # Check for empty contours and raise an error if none are found\n",
        "  if not contours:\n",
        "      raise ValueError(\"No contours found in the image\")\n",
        "\n",
        "  # Choose the contour with the largest area\n",
        "  contour = max(contours, key=cv2.contourArea)\n",
        "\n",
        "  # Sample points along the contour\n",
        "  sampled_points = contour[::sampling_step]\n",
        "\n",
        "  # Initialize the chain code\n",
        "  chain_code = []\n",
        "\n",
        "  # Start from the top-left pixel of the digit\n",
        "  x, y = sampled_points[0][0]\n",
        "\n",
        "  # Define a function that returns the chain code label for the next pixel in the boundary\n",
        "  def next_pixel(pixel, width, height):\n",
        "    x, y = pixel\n",
        "    labels = [\n",
        "      (0, -1), (1, -1), (1, 0), (1, 1), (0, 1), (-1, 1), (-1, 0), (-1, -1)\n",
        "    ]\n",
        "    for label, (dx, dy) in enumerate(labels):\n",
        "      nx, ny = x + dx, y + dy\n",
        "      if 0 <= nx < width and 0 <= ny < height and binary_image[ny, nx] == 0:\n",
        "        return label\n",
        "    return -1\n",
        "\n",
        "  # Iterate over the sampled points\n",
        "  for i in range(1, len(sampled_points)):\n",
        "    label = next_pixel((x, y), image.shape[1], image.shape[0])\n",
        "    if label != -1:\n",
        "      chain_code.append(label)\n",
        "    x, y = sampled_points[i][0]\n",
        "\n",
        "  return chain_code\n",
        "\n",
        "# Process two images and generate chain codes\n",
        "chain_code_1 = generate_chain_code('/content/image5.png')\n",
        "print(\"Chain Code - Image 1:\", chain_code_1)\n",
        "\n",
        "chain_code_2 = generate_chain_code('/content/square.png')\n",
        "print(\"\\nChain Code - Image 2:\", chain_code_2)\n",
        "\n",
        "# Compare chain codes (modify this part for your specific similarity check)\n",
        "if chain_code_1 == chain_code_2:\n",
        "  print(\"Shapes are similar.\")\n",
        "else:\n",
        "  print(\"Shapes are different.\")\n",
        "\n",
        "difference_code = [abs(a - b) for a, b in zip(chain_code_1, chain_code_2)]\n",
        "print(\"\\nDifference:\", difference_code)\n"
      ],
      "metadata": {
        "colab": {
          "base_uri": "https://localhost:8080/"
        },
        "id": "C-ZgzEqbs85j",
        "outputId": "f2c413f9-3cb7-40cb-89c4-d79bbedad1c6"
      },
      "execution_count": null,
      "outputs": [
        {
          "output_type": "stream",
          "name": "stdout",
          "text": [
            "Chain Code - Image 1: [0, 0, 0, 0, 4, 2, 4, 4, 6, 6, 0, 0, 0, 4, 4, 4, 4, 2, 2, 2, 2, 0, 0, 0, 0, 0, 2]\n",
            "\n",
            "Chain Code - Image 2: []\n",
            "Shapes are different.\n",
            "\n",
            "Difference: []\n"
          ]
        }
      ]
    }
  ]
}